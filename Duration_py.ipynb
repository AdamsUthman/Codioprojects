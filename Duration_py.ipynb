{
  "nbformat": 4,
  "nbformat_minor": 0,
  "metadata": {
    "colab": {
      "provenance": [],
      "collapsed_sections": [],
      "authorship_tag": "ABX9TyO8PgjWbi6TKcfcumRu0XtB",
      "include_colab_link": true
    },
    "kernelspec": {
      "name": "python3",
      "display_name": "Python 3"
    },
    "language_info": {
      "name": "python"
    }
  },
  "cells": [
    {
      "cell_type": "markdown",
      "metadata": {
        "id": "view-in-github",
        "colab_type": "text"
      },
      "source": [
        "<a href=\"https://colab.research.google.com/github/AdamsUthman/Codioprojects/blob/main/Duration_py.ipynb\" target=\"_parent\"><img src=\"https://colab.research.google.com/assets/colab-badge.svg\" alt=\"Open In Colab\"/></a>"
      ]
    },
    {
      "cell_type": "code",
      "execution_count": 5,
      "metadata": {
        "id": "lJcfL3h8NJvI"
      },
      "outputs": [],
      "source": [
        "class Time:\n",
        " \n",
        "  def add_time(t1, t2):\n",
        "    sum= Time()\n",
        "    sum.hour = t1.hour + t2.hour\n",
        "    sum.minute = t1.minute + t2.minute\n",
        "    sum.second = t1.second + t2.second\n",
        "\n",
        "    if sum.second >= 60:\n",
        "      sum.second -= 60\n",
        "      sum.minute +=  1\n",
        "\n",
        "    if sum.minute >= 60:\n",
        "      sum.minute -= 60\n",
        "      sum.hour += 1\n",
        "\n",
        "    return sum\n",
        "\n",
        "start = Time()\n",
        "start.hour = 9\n",
        "start.minute = 45\n",
        "start.second = 0\n",
        "\n",
        "duration = Time()\n",
        "duration.hour = 1\n",
        "duration.minute = 35\n",
        "duration.second = 0\n",
        "\n",
        "\n",
        "\n"
      ]
    }
  ]
}